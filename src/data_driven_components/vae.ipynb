{
 "cells": [
  {
   "cell_type": "code",
   "execution_count": 1,
   "metadata": {},
   "outputs": [
    {
     "output_type": "error",
     "ename": "SyntaxError",
     "evalue": "invalid syntax (vae.py, line 314)",
     "traceback": [
      "Traceback \u001b[0;36m(most recent call last)\u001b[0m:\n",
      "  File \u001b[1;32m\"/Users/gabriel/anaconda3/envs/AI/lib/python3.6/site-packages/IPython/core/interactiveshell.py\"\u001b[0m, line \u001b[1;32m3319\u001b[0m, in \u001b[1;35mrun_code\u001b[0m\n    exec(code_obj, self.user_global_ns, self.user_ns)\n",
      "\u001b[0;36m  File \u001b[0;32m\"<ipython-input-1-ddf3ee3e4c9e>\"\u001b[0;36m, line \u001b[0;32m1\u001b[0;36m, in \u001b[0;35m<module>\u001b[0;36m\u001b[0m\n\u001b[0;31m    import vae\u001b[0m\n",
      "\u001b[0;36m  File \u001b[0;32m\"/Users/gabriel/Desktop/NASA/RAISR-2.0/src/data_driven_components/vae.py\"\u001b[0;36m, line \u001b[0;32m314\u001b[0m\n\u001b[0;31m    if (x := vae(d)) > reconstruction_error:\u001b[0m\n\u001b[0m          ^\u001b[0m\n\u001b[0;31mSyntaxError\u001b[0m\u001b[0;31m:\u001b[0m invalid syntax\n"
     ]
    }
   ],
   "source": [
    "import vae\n",
    "import torch\n",
    "from vae import TimeseriesDataset, VAE, train, VAEExplainer, findThreshold\n",
    "from torch.utils.data import DataLoader, Dataset\n",
    "import numpy as np\n",
    "import pandas as pd\n",
    "import shap\n",
    "from torch import nn\n",
    "import matplotlib.pyplot as plt\n",
    "from captum.attr import KernelShap, DeepLift, DeepLiftShap\n",
    "import csv\n",
    "import os\n",
    "from tempdata import massLoadData\n",
    "from tqdm import tqdm\n",
    "\n",
    "shap.initjs()"
   ]
  },
  {
   "attachments": {},
   "cell_type": "markdown",
   "metadata": {},
   "source": [
    "![Current VAE network](NETWORK.png)"
   ]
  },
  {
   "cell_type": "markdown",
   "metadata": {},
   "source": [
    "# Toy example: Made up data"
   ]
  },
  {
   "cell_type": "markdown",
   "metadata": {},
   "source": [
    "# Load up the data"
   ]
  },
  {
   "cell_type": "code",
   "execution_count": 2,
   "metadata": {},
   "outputs": [
    {
     "output_type": "stream",
     "name": "stdout",
     "text": [
      "[[[0, 1, 2, 3, 4, 5, 6, 7, 8, 9, 10, 11, 12, 13, 14, 15, 16, 17, 18, 19, 20, 21, 22, 23, 24, 25, 26, 27, 28, 29]]]\n[[[1, 1, 1, 1, 1, 1, 1, 1, 1, 1, 1, 1, 1, 1, 1, 1, 1, 1, 1, 1, 1, 1, 1, 1, 1, 1, 1, 1, 1, 1]]]\n"
     ]
    },
    {
     "output_type": "error",
     "ename": "NameError",
     "evalue": "name 'TimeseriesDataset' is not defined",
     "traceback": [
      "\u001b[0;31m---------------------------------------------------------------------------\u001b[0m",
      "\u001b[0;31mNameError\u001b[0m                                 Traceback (most recent call last)",
      "\u001b[0;32m<ipython-input-2-eb965e1d8a9d>\u001b[0m in \u001b[0;36m<module>\u001b[0;34m\u001b[0m\n\u001b[1;32m      8\u001b[0m \u001b[0;34m\u001b[0m\u001b[0m\n\u001b[1;32m      9\u001b[0m \u001b[0mtransform\u001b[0m \u001b[0;34m=\u001b[0m \u001b[0;32mlambda\u001b[0m \u001b[0mx\u001b[0m\u001b[0;34m:\u001b[0m \u001b[0mtorch\u001b[0m\u001b[0;34m.\u001b[0m\u001b[0mtensor\u001b[0m\u001b[0;34m(\u001b[0m\u001b[0mx\u001b[0m\u001b[0;34m)\u001b[0m\u001b[0;34m.\u001b[0m\u001b[0mfloat\u001b[0m\u001b[0;34m(\u001b[0m\u001b[0;34m)\u001b[0m\u001b[0;34m\u001b[0m\u001b[0;34m\u001b[0m\u001b[0m\n\u001b[0;32m---> 10\u001b[0;31m \u001b[0mtrain_dataset\u001b[0m \u001b[0;34m=\u001b[0m \u001b[0mTimeseriesDataset\u001b[0m\u001b[0;34m(\u001b[0m\u001b[0mdata\u001b[0m\u001b[0;34m,\u001b[0m \u001b[0mtransform\u001b[0m\u001b[0;34m)\u001b[0m\u001b[0;34m\u001b[0m\u001b[0;34m\u001b[0m\u001b[0m\n\u001b[0m\u001b[1;32m     11\u001b[0m \u001b[0mtrain_dataloader\u001b[0m \u001b[0;34m=\u001b[0m \u001b[0mDataLoader\u001b[0m\u001b[0;34m(\u001b[0m\u001b[0mtrain_dataset\u001b[0m\u001b[0;34m,\u001b[0m \u001b[0mbatch_size\u001b[0m\u001b[0;34m=\u001b[0m\u001b[0;36m1\u001b[0m\u001b[0;34m)\u001b[0m\u001b[0;34m\u001b[0m\u001b[0;34m\u001b[0m\u001b[0m\n\u001b[1;32m     12\u001b[0m \u001b[0;34m\u001b[0m\u001b[0m\n",
      "\u001b[0;31mNameError\u001b[0m: name 'TimeseriesDataset' is not defined"
     ]
    }
   ],
   "source": [
    "data = range(30)\n",
    "data = [[list(data)]] # serrated shape\n",
    "print(data)\n",
    "\n",
    "data2 = [1]*30\n",
    "data2 = [[data2]] # uniform\n",
    "print(data2)\n",
    "\n",
    "transform = lambda x: torch.tensor(x).float()\n",
    "train_dataset = TimeseriesDataset(data, transform)\n",
    "train_dataloader = DataLoader(train_dataset, batch_size=1)\n",
    "\n",
    "test_dataset = TimeseriesDataset(data2, transform)\n",
    "test_dataloader = DataLoader(test_dataset, batch_size=1)"
   ]
  },
  {
   "cell_type": "markdown",
   "metadata": {},
   "source": [
    "# Train the model on normal data"
   ]
  },
  {
   "cell_type": "code",
   "execution_count": 3,
   "metadata": {},
   "outputs": [
    {
     "output_type": "error",
     "ename": "NameError",
     "evalue": "name 'VAE' is not defined",
     "traceback": [
      "\u001b[0;31m---------------------------------------------------------------------------\u001b[0m",
      "\u001b[0;31mNameError\u001b[0m                                 Traceback (most recent call last)",
      "\u001b[0;32m<ipython-input-3-5422629b0507>\u001b[0m in \u001b[0;36m<module>\u001b[0;34m\u001b[0m\n\u001b[0;32m----> 1\u001b[0;31m \u001b[0mvae\u001b[0m \u001b[0;34m=\u001b[0m \u001b[0mVAE\u001b[0m\u001b[0;34m(\u001b[0m\u001b[0minput_dim\u001b[0m\u001b[0;34m=\u001b[0m\u001b[0;36m30\u001b[0m\u001b[0;34m,\u001b[0m \u001b[0mseq_len\u001b[0m\u001b[0;34m=\u001b[0m\u001b[0;36m1\u001b[0m\u001b[0;34m,\u001b[0m \u001b[0mz_units\u001b[0m\u001b[0;34m=\u001b[0m\u001b[0;36m5\u001b[0m\u001b[0;34m)\u001b[0m\u001b[0;34m\u001b[0m\u001b[0;34m\u001b[0m\u001b[0m\n\u001b[0m\u001b[1;32m      2\u001b[0m \u001b[0mtrain\u001b[0m\u001b[0;34m(\u001b[0m\u001b[0mvae\u001b[0m\u001b[0;34m,\u001b[0m \u001b[0;34m{\u001b[0m\u001b[0;34m'train'\u001b[0m\u001b[0;34m:\u001b[0m \u001b[0mtrain_dataloader\u001b[0m\u001b[0;34m}\u001b[0m\u001b[0;34m,\u001b[0m \u001b[0mepochs\u001b[0m\u001b[0;34m=\u001b[0m\u001b[0;36m40\u001b[0m\u001b[0;34m,\u001b[0m \u001b[0mphases\u001b[0m\u001b[0;34m=\u001b[0m\u001b[0;34m[\u001b[0m\u001b[0;34m\"train\"\u001b[0m\u001b[0;34m]\u001b[0m\u001b[0;34m)\u001b[0m\u001b[0;34m\u001b[0m\u001b[0;34m\u001b[0m\u001b[0m\n",
      "\u001b[0;31mNameError\u001b[0m: name 'VAE' is not defined"
     ]
    }
   ],
   "source": [
    "vae = VAE(input_dim=30, seq_len=1, z_units=5)\n",
    "train(vae, {'train': train_dataloader}, epochs=40, phases=[\"train\"])"
   ]
  },
  {
   "cell_type": "code",
   "execution_count": 6,
   "metadata": {},
   "outputs": [
    {
     "data": {
      "text/plain": [
       "tensor(0.0018, grad_fn=<MseLossBackward>)"
      ]
     },
     "execution_count": 6,
     "metadata": {},
     "output_type": "execute_result"
    }
   ],
   "source": [
    "vae(transform(data))"
   ]
  },
  {
   "cell_type": "markdown",
   "metadata": {},
   "source": [
    "# Test the model on faulty data"
   ]
  },
  {
   "cell_type": "code",
   "execution_count": 7,
   "metadata": {},
   "outputs": [
    {
     "data": {
      "text/plain": [
       "tensor(0.2276, grad_fn=<MseLossBackward>)"
      ]
     },
     "execution_count": 7,
     "metadata": {},
     "output_type": "execute_result"
    }
   ],
   "source": [
    "vae(next(iter(test_dataloader)))"
   ]
  },
  {
   "cell_type": "markdown",
   "metadata": {},
   "source": [
    "# Explain the fault"
   ]
  },
  {
   "cell_type": "code",
   "execution_count": 8,
   "metadata": {},
   "outputs": [
    {
     "data": {
      "text/plain": [
       "tensor([[[ 0.0030, -0.0012,  0.0008, -0.0010, -0.0042, -0.0039, -0.0084,\n",
       "          -0.0041, -0.0072, -0.0060, -0.0039, -0.0022, -0.0041, -0.0033,\n",
       "          -0.0037,  0.0033,  0.0027,  0.0091,  0.0122,  0.0112,  0.0130,\n",
       "           0.0198,  0.0198,  0.0259,  0.0312,  0.0359,  0.0412,  0.0443,\n",
       "           0.0469,  0.0576]]])"
      ]
     },
     "execution_count": 8,
     "metadata": {},
     "output_type": "execute_result"
    }
   ],
   "source": [
    "normal_data = next(iter(train_dataloader))\n",
    "fault_data = next(iter(test_dataloader))\n",
    "\n",
    "explainer = VAEExplainer(vae, [str(x) for x in range(30)], n_features=30)\n",
    "explainer.shap(fault_data, normal_data)"
   ]
  },
  {
   "cell_type": "markdown",
   "metadata": {},
   "source": [
    "## Visualize in force plot"
   ]
  },
  {
   "cell_type": "code",
   "execution_count": 9,
   "metadata": {},
   "outputs": [
    {
     "data": {
      "text/html": [
       "\n",
       "<div id='iS9VB9SWAR05Y99ZNMHP4'>\n",
       "<div style='color: #900; text-align: center;'>\n",
       "  <b>Visualization omitted, Javascript library not loaded!</b><br>\n",
       "  Have you run `initjs()` in this notebook? If this notebook was from another\n",
       "  user you must also trust this notebook (File -> Trust notebook). If you are viewing\n",
       "  this notebook on github the Javascript has been stripped for security. If you are using\n",
       "  JupyterLab this error is because a JupyterLab extension has not yet been written.\n",
       "</div></div>\n",
       " <script>\n",
       "   if (window.SHAP) SHAP.ReactDom.render(\n",
       "    SHAP.React.createElement(SHAP.AdditiveForceVisualizer, {\"outNames\": [\"f(x)\"], \"baseValue\": 0, \"outValue\": 0.3245616853237152, \"link\": \"identity\", \"featureNames\": [\"0\", \"1\", \"2\", \"3\", \"4\", \"5\", \"6\", \"7\", \"8\", \"9\", \"10\", \"11\", \"12\", \"13\", \"14\", \"15\", \"16\", \"17\", \"18\", \"19\", \"20\", \"21\", \"22\", \"23\", \"24\", \"25\", \"26\", \"27\", \"28\", \"29\"], \"features\": {\"0\": {\"effect\": 0.003018429735675454, \"value\": 1.0}, \"1\": {\"effect\": -0.0011761949863284826, \"value\": 1.0}, \"2\": {\"effect\": 0.0007610730826854706, \"value\": 1.0}, \"3\": {\"effect\": -0.0010456789750605822, \"value\": 1.0}, \"4\": {\"effect\": -0.004173875320702791, \"value\": 1.0}, \"5\": {\"effect\": -0.0038750586099922657, \"value\": 1.0}, \"6\": {\"effect\": -0.00835847482085228, \"value\": 1.0}, \"7\": {\"effect\": -0.004080081358551979, \"value\": 1.0}, \"8\": {\"effect\": -0.007232419215142727, \"value\": 1.0}, \"9\": {\"effect\": -0.0060419077053666115, \"value\": 1.0}, \"10\": {\"effect\": -0.0038500491064041853, \"value\": 1.0}, \"11\": {\"effect\": -0.0022317636758089066, \"value\": 1.0}, \"12\": {\"effect\": -0.004108501598238945, \"value\": 1.0}, \"13\": {\"effect\": -0.0033385215792804956, \"value\": 1.0}, \"14\": {\"effect\": -0.0037297802045941353, \"value\": 1.0}, \"15\": {\"effect\": 0.003262228099629283, \"value\": 1.0}, \"16\": {\"effect\": 0.0027017456013709307, \"value\": 1.0}, \"17\": {\"effect\": 0.00912684015929699, \"value\": 1.0}, \"18\": {\"effect\": 0.012165166437625885, \"value\": 1.0}, \"19\": {\"effect\": 0.011152753606438637, \"value\": 1.0}, \"20\": {\"effect\": 0.01304182130843401, \"value\": 1.0}, \"21\": {\"effect\": 0.019798027351498604, \"value\": 1.0}, \"22\": {\"effect\": 0.019752133637666702, \"value\": 1.0}, \"23\": {\"effect\": 0.02593838796019554, \"value\": 1.0}, \"24\": {\"effect\": 0.03124910779297352, \"value\": 1.0}, \"25\": {\"effect\": 0.03590924292802811, \"value\": 1.0}, \"26\": {\"effect\": 0.04115810990333557, \"value\": 1.0}, \"27\": {\"effect\": 0.04430927708745003, \"value\": 1.0}, \"28\": {\"effect\": 0.04687546193599701, \"value\": 1.0}, \"29\": {\"effect\": 0.057584185153245926, \"value\": 1.0}}, \"plot_cmap\": \"RdBu\", \"labelMargin\": 20}),\n",
       "    document.getElementById('iS9VB9SWAR05Y99ZNMHP4')\n",
       "  );\n",
       "</script>"
      ],
      "text/plain": [
       "<shap.plots._force.AdditiveForceVisualizer at 0x7fc2984378e0>"
      ]
     },
     "execution_count": 9,
     "metadata": {},
     "output_type": "execute_result"
    }
   ],
   "source": [
    "shap_values, data, data_names = explainer.viz()\n",
    "shap.force_plot(0, shap_values, data, data_names)"
   ]
  },
  {
   "cell_type": "markdown",
   "metadata": {},
   "source": [
    "## Visualize as waterfall"
   ]
  },
  {
   "cell_type": "code",
   "execution_count": 10,
   "metadata": {},
   "outputs": [
    {
     "data": {
      "image/png": "[encoded data removed]",
      "text/plain": [
       "<Figure size 576x468 with 3 Axes>"
      ]
     },
     "metadata": {},
     "output_type": "display_data"
    }
   ],
   "source": [
    "e = shap.Explanation(shap_values, base_values=0, data=data, feature_names=[str(d) for d in data_names])\n",
    "shap.waterfall_plot(e)"
   ]
  },
  {
   "cell_type": "markdown",
   "metadata": {},
   "source": [
    "# Better example: Simulated data"
   ]
  },
  {
   "cell_type": "markdown",
   "metadata": {},
   "source": [
    "# Load the data"
   ]
  },
  {
   "cell_type": "code",
   "execution_count": 11,
   "metadata": {},
   "outputs": [],
   "source": [
    "basePath = os.path.dirname('/Users/gabriel/Desktop/NASA/RAISR-2.0/src/data_driven_components')\n",
    "headers, data = massLoadData(os.path.join(basePath, \"data/data_physics_generation/No_Errors/\"), 5)\n",
    "data = np.array(data)\n",
    "data = data[:,:,1:8].astype(np.float)\n",
    "data = torch.tensor(data)\n",
    "data = data.float()\n",
    "headers = headers[1:8]"
   ]
  },
  {
   "cell_type": "code",
   "execution_count": 12,
   "metadata": {},
   "outputs": [],
   "source": [
    "transform = lambda x: x.float()\n",
    "train_dataset = TimeseriesDataset(data)\n",
    "train_dataloader = DataLoader(train_dataset, batch_size=100)"
   ]
  },
  {
   "cell_type": "markdown",
   "metadata": {},
   "source": [
    "# Create network"
   ]
  },
  {
   "cell_type": "code",
   "execution_count": 13,
   "metadata": {},
   "outputs": [
    {
     "name": "stdout",
     "output_type": "stream",
     "text": [
      "VAE(\n",
      "  (norm): BatchNorm1d(5, eps=1e-05, momentum=0.1, affine=True, track_running_stats=True)\n",
      "  (enc1): LSTM(7, 100, batch_first=True)\n",
      "  (enc2): LSTM(100, 3, batch_first=True)\n",
      "  (mulinear): Linear(in_features=3, out_features=3, bias=True)\n",
      "  (logvarlinear): Linear(in_features=3, out_features=3, bias=True)\n",
      "  (dec1): LSTM(3, 100, batch_first=True)\n",
      "  (dec2): LSTM(100, 7, batch_first=True)\n",
      "  (output_layer): Linear(in_features=7, out_features=7, bias=True)\n",
      ")\n"
     ]
    }
   ],
   "source": [
    "vae = VAE(input_dim=7, seq_len=5, z_units=3)\n",
    "print(vae)"
   ]
  },
  {
   "cell_type": "markdown",
   "metadata": {},
   "source": [
    "# Train network"
   ]
  },
  {
   "cell_type": "code",
   "execution_count": 14,
   "metadata": {},
   "outputs": [
    {
     "name": "stdout",
     "output_type": "stream",
     "text": [
      "Starting training, see run at /Users/gabriel/Desktop/NASA/RAISR-2.0/src/data_driven_components/runs/18-6-2021_10:7:59\n"
     ]
    },
    {
     "data": {
      "application/vnd.jupyter.widget-view+json": {
       "model_id": "cfda3fd5d3384ce1b8ca1e01e42e57dc",
       "version_major": 2,
       "version_minor": 0
      },
      "text/plain": [
       "  0%|          | 0/2 [00:00<?, ?it/s]"
      ]
     },
     "metadata": {},
     "output_type": "display_data"
    }
   ],
   "source": [
    "train(vae, {'train': train_dataloader}, epochs=2, phases=[\"train\"])"
   ]
  },
  {
   "cell_type": "markdown",
   "metadata": {},
   "source": [
    "# Learned representation"
   ]
  },
  {
   "cell_type": "code",
   "execution_count": 15,
   "metadata": {},
   "outputs": [
    {
     "name": "stdout",
     "output_type": "stream",
     "text": [
      "tensor([[ 3.2611e-07,  9.3068e-07, -6.5962e-07]], grad_fn=<SelectBackward>) tensor([[ 2.5111e-07, -1.4163e-06, -2.2379e-06]], grad_fn=<SelectBackward>)\n"
     ]
    }
   ],
   "source": [
    "print(vae.mu[0], vae.logvar[0])"
   ]
  },
  {
   "cell_type": "markdown",
   "metadata": {},
   "source": [
    "# Load testing data"
   ]
  },
  {
   "cell_type": "code",
   "execution_count": 16,
   "metadata": {},
   "outputs": [],
   "source": [
    "basePath = os.path.dirname('/Users/gabriel/Desktop/NASA/RAISR-2.0/src/data_driven_components')\n",
    "headers, data2 = massLoadData(os.path.join(basePath, \"data/data_physics_generation/crash/\"), 5)\n",
    "data2 = np.array(data2)\n",
    "data2 = data2[:,:,1:8].astype(np.float)\n",
    "data2 = torch.tensor(data2)\n",
    "data2 = data2.float()\n",
    "headers = headers[1:8]"
   ]
  },
  {
   "cell_type": "code",
   "execution_count": 17,
   "metadata": {},
   "outputs": [],
   "source": [
    "transform = lambda x: x.float()\n",
    "test_dataset = TimeseriesDataset(data2)\n",
    "test_dataloader = DataLoader(test_dataset, batch_size=1)"
   ]
  },
  {
   "cell_type": "markdown",
   "metadata": {},
   "source": [
    "# Find fault threshold"
   ]
  },
  {
   "cell_type": "code",
   "execution_count": 18,
   "metadata": {},
   "outputs": [
    {
     "data": {
      "application/vnd.jupyter.widget-view+json": {
       "model_id": "c67c3a1677ad4b258fb6ac81c8583e93",
       "version_major": 2,
       "version_minor": 0
      },
      "text/plain": [
       "  0%|          | 0/10000 [00:00<?, ?it/s]"
      ]
     },
     "metadata": {},
     "output_type": "display_data"
    },
    {
     "name": "stdout",
     "output_type": "stream",
     "text": [
      "tensor(0.0023, grad_fn=<MulBackward0>)\n"
     ]
    }
   ],
   "source": [
    "fault_threshold = findThreshold(vae, train_dataset[0:10000], 3)\n",
    "print(fault_threshold)"
   ]
  },
  {
   "cell_type": "markdown",
   "metadata": {},
   "source": [
    "# Find faults"
   ]
  },
  {
   "cell_type": "code",
   "execution_count": 19,
   "metadata": {
    "scrolled": true
   },
   "outputs": [
    {
     "name": "stderr",
     "output_type": "stream",
     "text": [
      "Matplotlib is currently using module://ipykernel.pylab.backend_inline, which is a non-GUI backend, so cannot show the figure.\n"
     ]
    },
    {
     "data": {
      "image/png": "[encoded data removed]",
      "text/plain": [
       "<Figure size 432x288 with 1 Axes>"
      ]
     },
     "metadata": {
      "needs_background": "light"
     },
     "output_type": "display_data"
    }
   ],
   "source": [
    "recon = []\n",
    "for d in test_dataloader:\n",
    "    recon.append(vae(d))\n",
    "\n",
    "fig, ax = plt.subplots()\n",
    "ax.set(xlabel='Datapoint', ylabel='Reconstruction error', title='Reconstruction error over time')\n",
    "ax.plot(recon)\n",
    "ax.axhline(fault_threshold, color=\"r\")\n",
    "ax.legend(['Satellite Reconstruction error', 'Fault threshold'])\n",
    "fig.show()"
   ]
  },
  {
   "cell_type": "markdown",
   "metadata": {},
   "source": [
    "# Diagnose faults"
   ]
  },
  {
   "cell_type": "code",
   "execution_count": 20,
   "metadata": {},
   "outputs": [],
   "source": [
    "for idx, d in enumerate(test_dataloader):\n",
    "    if idx == 400:\n",
    "        normal_data = d\n",
    "    if idx == 1100:\n",
    "        fault_data = d"
   ]
  },
  {
   "cell_type": "code",
   "execution_count": 21,
   "metadata": {},
   "outputs": [],
   "source": [
    "explainer = VAEExplainer(vae, headers, n_features=7, seq_len=5)\n",
    "shap_values = explainer.shap(fault_data, normal_data)"
   ]
  },
  {
   "cell_type": "code",
   "execution_count": 22,
   "metadata": {},
   "outputs": [
    {
     "data": {
      "image/png": "[encoded data removed]",
      "text/plain": [
       "<Figure size 576x468 with 3 Axes>"
      ]
     },
     "metadata": {},
     "output_type": "display_data"
    }
   ],
   "source": [
    "shap_values, data, data_names = explainer.viz(False)\n",
    "e = shap.Explanation(shap_values, base_values=0, data=data, feature_names=data_names)\n",
    "shap.waterfall_plot(e)"
   ]
  },
  {
   "cell_type": "code",
   "execution_count": 23,
   "metadata": {},
   "outputs": [
    {
     "data": {
      "image/png": "[encoded data removed]",
      "text/plain": [
       "<Figure size 576x360 with 3 Axes>"
      ]
     },
     "metadata": {},
     "output_type": "display_data"
    }
   ],
   "source": [
    "shap_values, data, data_names = explainer.viz(True)\n",
    "e = shap.Explanation(shap_values, base_values=0, data=data, feature_names=data_names)\n",
    "shap.waterfall_plot(e)"
   ]
  },
  {
   "cell_type": "code",
   "execution_count": 24,
   "metadata": {},
   "outputs": [
    {
     "data": {
      "text/html": [
       "\n",
       "<div id='iMB5PD27PRDGDWIFVK8QT'>\n",
       "<div style='color: #900; text-align: center;'>\n",
       "  <b>Visualization omitted, Javascript library not loaded!</b><br>\n",
       "  Have you run `initjs()` in this notebook? If this notebook was from another\n",
       "  user you must also trust this notebook (File -> Trust notebook). If you are viewing\n",
       "  this notebook on github the Javascript has been stripped for security. If you are using\n",
       "  JupyterLab this error is because a JupyterLab extension has not yet been written.\n",
       "</div></div>\n",
       " <script>\n",
       "   if (window.SHAP) SHAP.ReactDom.render(\n",
       "    SHAP.React.createElement(SHAP.AdditiveForceVisualizer, {\"outNames\": [\"f(x)\"], \"baseValue\": 0, \"outValue\": 0.000911259965505451, \"link\": \"identity\", \"featureNames\": [\"VOLTAGE\", \"CURRENT\", \"THRUST\", \"ALTITUDE\", \"ACCELERATION\", \"TEMPERATURE\", \"SCIENCE_COLLECTION\"], \"features\": {\"0\": {\"effect\": 2.3980967398529174e-06, \"value\": 18.0}, \"1\": {\"effect\": -8.334010090038646e-06, \"value\": 5.0}, \"2\": {\"effect\": -0.00011681010801112279, \"value\": 200.0}, \"3\": {\"effect\": 0.0009374089422635734, \"value\": 400.5479736328125}, \"4\": {\"effect\": 5.732892077503493e-06, \"value\": -3.0240001678466797}, \"5\": {\"effect\": 9.977295849239454e-05, \"value\": 125.54000091552734}, \"6\": {\"effect\": -8.908713425626047e-06, \"value\": 0.0}}, \"plot_cmap\": \"RdBu\", \"labelMargin\": 20}),\n",
       "    document.getElementById('iMB5PD27PRDGDWIFVK8QT')\n",
       "  );\n",
       "</script>"
      ],
      "text/plain": [
       "<shap.plots._force.AdditiveForceVisualizer at 0x7fc29874d490>"
      ]
     },
     "execution_count": 24,
     "metadata": {},
     "output_type": "execute_result"
    }
   ],
   "source": [
    "shap_values, data, data_names = explainer.viz(True)\n",
    "shap.force_plot(0, shap_values, data, data_names)"
   ]
  },
  {
   "cell_type": "code",
   "execution_count": 25,
   "metadata": {},
   "outputs": [
    {
     "data": {
      "text/html": [
       "\n",
       "<div id='i15KTEJ68WAE9I6KZHI7X'>\n",
       "<div style='color: #900; text-align: center;'>\n",
       "  <b>Visualization omitted, Javascript library not loaded!</b><br>\n",
       "  Have you run `initjs()` in this notebook? If this notebook was from another\n",
       "  user you must also trust this notebook (File -> Trust notebook). If you are viewing\n",
       "  this notebook on github the Javascript has been stripped for security. If you are using\n",
       "  JupyterLab this error is because a JupyterLab extension has not yet been written.\n",
       "</div></div>\n",
       " <script>\n",
       "   if (window.SHAP) SHAP.ReactDom.render(\n",
       "    SHAP.React.createElement(SHAP.AdditiveForceVisualizer, {\"outNames\": [\"f(x)\"], \"baseValue\": 0, \"outValue\": 0.004556300584226847, \"link\": \"identity\", \"featureNames\": [\"0_VOLTAGE\", \"0_CURRENT\", \"0_THRUST\", \"0_ALTITUDE\", \"0_ACCELERATION\", \"0_TEMPERATURE\", \"0_SCIENCE_COLLECTION\", \"1_VOLTAGE\", \"1_CURRENT\", \"1_THRUST\", \"1_ALTITUDE\", \"1_ACCELERATION\", \"1_TEMPERATURE\", \"1_SCIENCE_COLLECTION\", \"2_VOLTAGE\", \"2_CURRENT\", \"2_THRUST\", \"2_ALTITUDE\", \"2_ACCELERATION\", \"2_TEMPERATURE\", \"2_SCIENCE_COLLECTION\", \"3_VOLTAGE\", \"3_CURRENT\", \"3_THRUST\", \"3_ALTITUDE\", \"3_ACCELERATION\", \"3_TEMPERATURE\", \"3_SCIENCE_COLLECTION\", \"4_VOLTAGE\", \"4_CURRENT\", \"4_THRUST\", \"4_ALTITUDE\", \"4_ACCELERATION\", \"4_TEMPERATURE\", \"4_SCIENCE_COLLECTION\"], \"features\": {\"0\": {\"effect\": -1.2152831004641484e-05, \"value\": 18.0}, \"1\": {\"effect\": -2.4313676476594992e-05, \"value\": 5.0}, \"2\": {\"effect\": -0.00012164767395006493, \"value\": 200.0}, \"3\": {\"effect\": 0.0013139075599610806, \"value\": 401.6400146484375}, \"4\": {\"effect\": -1.5864559827605262e-05, \"value\": -3.069999933242798}, \"5\": {\"effect\": 0.00018246327817905694, \"value\": 125.4800033569336}, \"6\": {\"effect\": 1.3351515917747747e-05, \"value\": 0.0}, \"7\": {\"effect\": -2.742099968600087e-05, \"value\": 18.0}, \"8\": {\"effect\": 1.7002445019898005e-05, \"value\": 5.0}, \"9\": {\"effect\": -9.486851195106283e-05, \"value\": 200.0}, \"10\": {\"effect\": 0.0009251735173165798, \"value\": 400.9599914550781}, \"11\": {\"effect\": 2.952313661808148e-05, \"value\": -3.359999895095825}, \"12\": {\"effect\": 7.73976425989531e-05, \"value\": 125.5199966430664}, \"13\": {\"effect\": -2.3771068299538456e-05, \"value\": 0.0}, \"14\": {\"effect\": -1.3521967048291117e-05, \"value\": 18.0}, \"15\": {\"effect\": 3.04356535707484e-06, \"value\": 5.0}, \"16\": {\"effect\": -0.00014070079487282783, \"value\": 200.0}, \"17\": {\"effect\": 0.0008319496992044151, \"value\": 400.5899963378906}, \"18\": {\"effect\": 4.855487986787921e-06, \"value\": -2.740000009536743}, \"19\": {\"effect\": 6.711592141073197e-05, \"value\": 125.54000091552734}, \"20\": {\"effect\": -1.5990732208592817e-05, \"value\": 0.0}, \"21\": {\"effect\": -5.509067250386579e-06, \"value\": 18.0}, \"22\": {\"effect\": -2.1312049284460954e-05, \"value\": 5.0}, \"23\": {\"effect\": -0.00012660192442126572, \"value\": 200.0}, \"24\": {\"effect\": 0.00080836471170187, \"value\": 399.94000244140625}, \"25\": {\"effect\": 9.689148100733291e-06, \"value\": -3.299999952316284}, \"26\": {\"effect\": 8.14418526715599e-05, \"value\": 125.56999969482422}, \"27\": {\"effect\": -3.105258656432852e-05, \"value\": 0.0}, \"28\": {\"effect\": 7.059534982545301e-05, \"value\": 18.0}, \"29\": {\"effect\": -1.6090334611362778e-05, \"value\": 5.0}, \"30\": {\"effect\": -0.00010023166396422312, \"value\": 200.0}, \"31\": {\"effect\": 0.0008076493977569044, \"value\": 399.6099853515625}, \"32\": {\"effect\": 4.612485895449936e-07, \"value\": -2.6500000953674316}, \"33\": {\"effect\": 9.044614853337407e-05, \"value\": 125.58999633789062}, \"34\": {\"effect\": 1.2919305845571216e-05, \"value\": 0.0}}, \"plot_cmap\": \"RdBu\", \"labelMargin\": 20}),\n",
       "    document.getElementById('i15KTEJ68WAE9I6KZHI7X')\n",
       "  );\n",
       "</script>"
      ],
      "text/plain": [
       "<shap.plots._force.AdditiveForceVisualizer at 0x7fc27ae8bbe0>"
      ]
     },
     "execution_count": 25,
     "metadata": {},
     "output_type": "execute_result"
    }
   ],
   "source": [
    "shap_values, data, data_names = explainer.viz(False)\n",
    "shap.force_plot(0, shap_values, data, data_names)"
   ]
  },
  {
   "cell_type": "markdown",
   "metadata": {},
   "source": [
    "# Misc"
   ]
  },
  {
   "cell_type": "code",
   "execution_count": null,
   "metadata": {},
   "outputs": [],
   "source": [
    "train(vae, {'train': train_dataloader}, epochs=2, lr=1e-3, phases=[\"train\"], checkpoint=True)"
   ]
  },
  {
   "cell_type": "code",
   "execution_count": null,
   "metadata": {},
   "outputs": [],
   "source": [
    "d = next(iter(train_dataloader))\n",
    "print(vae(d))"
   ]
  },
  {
   "cell_type": "code",
   "execution_count": null,
   "metadata": {},
   "outputs": [],
   "source": [
    "basePath = os.path.dirname('/Users/gabriel/Desktop/NASA/RAISR-2.0/src/data_driven_components')\n",
    "headers, data2 = massLoadData(os.path.join(basePath, \"data/data_physics_generation/crash/\"), 1)\n",
    "data2 = np.array(data2)\n",
    "data2 = data2[:,:,1:8].astype(np.float)\n",
    "data2 = torch.tensor(data2)\n",
    "data2 = data2.float()\n",
    "headers = headers[1:8]"
   ]
  },
  {
   "cell_type": "code",
   "execution_count": null,
   "metadata": {},
   "outputs": [],
   "source": [
    "transform = lambda x: x.float()\n",
    "test_dataset = TimeseriesDataset(data2)\n",
    "test_dataloader = DataLoader(test_dataset, batch_size=1)"
   ]
  },
  {
   "cell_type": "code",
   "execution_count": null,
   "metadata": {},
   "outputs": [],
   "source": [
    "idx = 403\n",
    "\n",
    "print(vae(train_dataset[idx].reshape(1,5,7)))\n",
    "print(vae(test_dataset[idx].reshape(1,5,7)))\n",
    "print(headers)\n",
    "test_dataset[idx]"
   ]
  },
  {
   "cell_type": "code",
   "execution_count": null,
   "metadata": {},
   "outputs": [],
   "source": [
    "findThreshold(vae, train_dataset, 0.5)"
   ]
  },
  {
   "cell_type": "code",
   "execution_count": null,
   "metadata": {},
   "outputs": [],
   "source": []
  },
  {
   "cell_type": "code",
   "execution_count": null,
   "metadata": {},
   "outputs": [],
   "source": [
    "def cleanUpData(data):\n",
    "    "
   ]
  },
  {
   "cell_type": "code",
   "execution_count": null,
   "metadata": {},
   "outputs": [],
   "source": [
    "def showReconstruction(dataset, fault_threshold):\n"
   ]
  },
  {
   "cell_type": "code",
   "execution_count": null,
   "metadata": {},
   "outputs": [],
   "source": [
    "for idx, d in enumerate(test_dataloader):\n",
    "    if((out := vae(d)) > 1e-1):\n",
    "        print(idx, out)"
   ]
  },
  {
   "cell_type": "code",
   "execution_count": null,
   "metadata": {},
   "outputs": [],
   "source": [
    "def makeHeaders(headers, seq_len):\n",
    "    \"\"\"\n",
    "    Make sequential headers from \n",
    "    \"\"\"\n",
    "    long_header = []\n",
    "    for t in range(seq_len):\n",
    "        long_header += [str(t) + '_' + h for h in headers]\n",
    "    return long_header"
   ]
  },
  {
   "cell_type": "code",
   "execution_count": null,
   "metadata": {},
   "outputs": [],
   "source": [
    "b_h = makeHeaders(headers, 5)"
   ]
  },
  {
   "cell_type": "code",
   "execution_count": null,
   "metadata": {},
   "outputs": [],
   "source": [
    "test_dataloader2 = DataLoader(test_dataset, batch_size=1)"
   ]
  },
  {
   "cell_type": "code",
   "execution_count": null,
   "metadata": {},
   "outputs": [],
   "source": []
  },
  {
   "cell_type": "code",
   "execution_count": null,
   "metadata": {},
   "outputs": [],
   "source": [
    "print(data)\n",
    "data.reshape((5,7)).sum(axis=0)/5"
   ]
  },
  {
   "cell_type": "code",
   "execution_count": null,
   "metadata": {},
   "outputs": [],
   "source": []
  },
  {
   "cell_type": "code",
   "execution_count": null,
   "metadata": {},
   "outputs": [],
   "source": []
  },
  {
   "cell_type": "code",
   "execution_count": null,
   "metadata": {},
   "outputs": [],
   "source": [
    "g = iter(test_dataloader)\n",
    "normal_data = g.next()\n",
    "fault_data = g.next()\n",
    "\n",
    "explainer = VAEExplainer(vae, n_features=7)\n",
    "explainer.shap(fault_data, normal_data)\n",
    "\n",
    "shap_values, data, data_names = explainer.viz()\n",
    "print(shap_values, data, headers)\n",
    "shap_values[0] = 1\n",
    "e = shap.Explanation(shap_values, base_values=0, data=data, feature_names=headers)\n",
    "shap.waterfall_plot(e)"
   ]
  },
  {
   "cell_type": "code",
   "execution_count": null,
   "metadata": {
    "scrolled": false
   },
   "outputs": [],
   "source": [
    "data = range(30)\n",
    "data = [[list(data)]] # serrated shape\n",
    "\n",
    "data2 = [1]*30\n",
    "data2 = [[data2]] # uniform\n",
    "\n",
    "transform = lambda x: torch.tensor(x).float()\n",
    "train_dataset = TimeseriesDataset(data, transform)\n",
    "train_dataloader = DataLoader(train_dataset, batch_size=1)\n",
    "\n",
    "test_dataset = TimeseriesDataset(data2, transform)\n",
    "test_dataloader = DataLoader(test_dataset, batch_size=1)\n",
    "\n",
    "print(\"Creating VAE...\")\n",
    "vae = VAE(input_dim=30, seq_len=1, z_units=5)\n",
    "print(\"Successfuly created VAE\")"
   ]
  },
  {
   "cell_type": "code",
   "execution_count": null,
   "metadata": {},
   "outputs": [],
   "source": [
    "explainer = KernelShap(vae)"
   ]
  },
  {
   "cell_type": "code",
   "execution_count": null,
   "metadata": {},
   "outputs": [],
   "source": [
    "optimizer = torch.optim.Adam(vae.parameters(), lr=1e-1)\n",
    "\n",
    "for x in train_dataloader:\n",
    "    normal_data = x\n",
    "\n",
    "vae.train(True)\n",
    "for i in range(500):\n",
    "        vae(fault_data)\n",
    "        loss = vae.loss()\n",
    "        optimizer.zero_grad()\n",
    "        loss.backward()\n",
    "        optimizer.step()\n",
    "print(vae(normal_data))"
   ]
  },
  {
   "cell_type": "code",
   "execution_count": null,
   "metadata": {},
   "outputs": [],
   "source": [
    "vae.train(False)\n",
    "for x in test_dataloader:\n",
    "    fault_data = x\n",
    "\n",
    "\"\"\"\n",
    "fault_data_recon = vae(fault_data)\n",
    "recon_err = torch.linalg.norm(fault_data - fault_data_recon, axis=1) # different then loss, no kl divergence\n",
    "fault_data_recon_abs = torch.abs(fault_data_recon)\n",
    "values, indices = torch.topk(fault_data_recon_abs, 5)\n",
    "\n",
    "print(values, indices)\n",
    "\n",
    "for feature_idx in indices[0][0]:\n",
    "    feature_idx = int(feature_idx)\n",
    "    weight_save = vae.enc1.weight_ih_l0.clone()\n",
    "\n",
    "    # Remove marginal contribution of feature_idx to vae\n",
    "    vae.enc1.weight_ih_l0[:, feature_idx] = 0\n",
    "    explainer = KernelShap(vae)\n",
    "    shap_values = explainer.attribute(fault_data, baselines=normal_data, target=(0,feature_idx))\n",
    "    vae.enc1.weight_ih_l0 = nn.Parameter(weight_save)\n",
    "    print(shap_values[0, 0, indices])\n",
    "\n",
    "recon_contribution = recon_err\n",
    "print(recon_contribution)\n",
    "\"\"\"\n",
    "#shap.KernelExplainer(vae, normal_data)\n",
    "shap_values = explainer.attribute(normal_data, fault_data, n_samples=200)\n",
    "print(shap_values)\n",
    "print(vae(fault_data))\n",
    "shap_values = shap_values.detach().numpy().reshape((30))\n",
    "data = fault_data.detach().numpy().reshape((30))\n",
    "shap.force_plot(0, shap_values, data, list(range(30)))"
   ]
  },
  {
   "cell_type": "code",
   "execution_count": null,
   "metadata": {},
   "outputs": [],
   "source": [
    "class lstm(nn.Module):\n",
    "    def __init__(self):\n",
    "        super(lstm, self).__init__()\n",
    "        self.lstm = nn.LSTM(\n",
    "                    input_size=5,\n",
    "                    hidden_size=5,\n",
    "                    num_layers=1,\n",
    "                    batch_first=True\n",
    "                )\n",
    "        self.loss_fn = nn.L1Loss()\n",
    "    def forward(self, x):\n",
    "        self.input = x\n",
    "        self.output, _ = self.lstm(x)\n",
    "        return self.output\n",
    "    def loss(self):\n",
    "        return self.loss_fn(self.input, self.output)\n",
    "\n",
    "def scale_down(x):\n",
    "    return (x-2.5)*(1/5)\n",
    "\n",
    "def scale_up(x):\n",
    "    return x*5+2.5"
   ]
  },
  {
   "cell_type": "code",
   "execution_count": null,
   "metadata": {
    "tags": []
   },
   "outputs": [],
   "source": [
    "data = [[[1]+[5]*4],[[2]+[5]*4],[[3]+[5]*4],[[4]+[5]*4],[[5]+[5]*4]]\n",
    "\n",
    "toy_lstm = lstm()\n",
    "\n",
    "transform = lambda x: scale_down(torch.tensor(x).float())\n",
    "dataset = TimeseriesDataset(data, transform)\n",
    "dataloader = DataLoader(dataset, batch_size=1)\n",
    "\n",
    "optimizer_lstm = torch.optim.Adam(toy_lstm.parameters(), lr=1e-2)\n",
    "\n",
    "losses = []\n",
    "toy_lstm.train(True)\n",
    "for i in range(50):\n",
    "    for d in dataloader:\n",
    "        x = d\n",
    "        out = toy_lstm(d)\n",
    "        loss = toy_lstm.loss()\n",
    "        losses.append(loss)\n",
    "        optimizer_lstm.zero_grad()\n",
    "        loss.backward()\n",
    "        optimizer_lstm.step()"
   ]
  },
  {
   "cell_type": "code",
   "execution_count": null,
   "metadata": {},
   "outputs": [],
   "source": [
    "plt.plot(losses)\n",
    "plt.show()"
   ]
  },
  {
   "cell_type": "code",
   "execution_count": null,
   "metadata": {},
   "outputs": [],
   "source": [
    "datum = torch.tensor([[range(5)]], dtype=torch.float)\n",
    "datum = scale_down(datum)\n",
    "prezero = toy_lstm(datum)\n",
    "for w in toy_lstm.parameters():\n",
    "    print(w.shape)\n",
    "\n",
    "weight_save = toy_lstm.lstm.weight_ih_l0.clone()\n",
    "toy_lstm.lstm.weight_ih_l0[:,0] = 0\n",
    "postzero = toy_lstm(datum)\n",
    "prezero = scale_up(prezero)\n",
    "postzero = scale_up(postzero)\n",
    "print(prezero, '\\n', postzero, '\\n', prezero-postzero)\n",
    "toy_lstm.lstm.weight_ih_l0 = nn.Parameter(weight_save)"
   ]
  },
  {
   "cell_type": "code",
   "execution_count": null,
   "metadata": {},
   "outputs": [],
   "source": [
    "x = torch.tensor([[[5,5]]]).float()\n",
    "out = toy_lstm(x)\n",
    "print(x, out)\n",
    "print(x-out)"
   ]
  },
  {
   "cell_type": "code",
   "execution_count": null,
   "metadata": {},
   "outputs": [],
   "source": [
    "lstm_1 = nn.LSTM(3, 3)\n",
    "\n",
    "in_tensor = torch.Tensor([[-1,0,1]]).reshape(1,1,3)\n",
    "\n",
    "optimizer = torch.optim.Adagrad(lstm_1.parameters(), lr=2e-1, lr_decay=0.02)\n",
    "loss_fn = nn.MSELoss()\n",
    "\n",
    "\n",
    "losses = []\n",
    "for i in range(400):\n",
    "    pred_out = lstm_1(in_tensor)[0]\n",
    "    optimizer.zero_grad()\n",
    "    loss = loss_fn(pred_out, in_tensor)\n",
    "    losses.append(loss)\n",
    "    loss.backward()\n",
    "    optimizer.step()\n",
    "\n",
    "plt.plot(losses)\n",
    "plt.show()\n"
   ]
  },
  {
   "cell_type": "code",
   "execution_count": null,
   "metadata": {},
   "outputs": [],
   "source": [
    "print(in_tensor.shape)\n",
    "print(lstm_1(in_tensor)[0])"
   ]
  }
 ],
 "metadata": {
  "kernelspec": {
   "name": "python3610jvsc74a57bd0b29cdaa70117b59b2fbab1455e3c7b60120bf0c060224260c783ca52e7b3c9c4",
   "display_name": "Python 3.6.10 64-bit ('AI': conda)"
  },
  "language_info": {
   "codemirror_mode": {
    "name": "ipython",
    "version": 3
   },
   "file_extension": ".py",
   "mimetype": "text/x-python",
   "name": "python",
   "nbconvert_exporter": "python",
   "pygments_lexer": "ipython3",
   "version": "3.6.10"
  },
  "metadata": {
   "interpreter": {
    "hash": "1120a12dd459236c571d46922979766e113930c177471325613872c1d588dc12"
   }
  }
 },
 "nbformat": 4,
 "nbformat_minor": 2
}